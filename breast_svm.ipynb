{
 "cells": [
  {
   "cell_type": "code",
   "execution_count": 2,
   "metadata": {},
   "outputs": [],
   "source": [
    "# %load breast_svm.py\n",
    "# 乳腺癌诊断分类\n",
    "import pandas as pd\n",
    "import matplotlib.pyplot as plt\n",
    "import seaborn as sns\n",
    "from sklearn.model_selection import train_test_split\n",
    "from sklearn import svm\n",
    "from sklearn import metrics\n",
    "from sklearn.preprocessing import StandardScaler\n",
    "\n",
    "# 加载数据集，你需要把数据放到目录中\n",
    "data = pd.read_csv(\"./data.csv\")"
   ]
  },
  {
   "cell_type": "code",
   "execution_count": null,
   "metadata": {},
   "outputs": [],
   "source": [
    "# 数据探索\n",
    "# 因为数据集中列比较多，我们需要把 dataframe 中的列全部显示出来\n",
    "pd.set_option(\"display.max_columns\", None)\n",
    "print(data.columns)\n",
    "print(data.head(5))\n",
    "print(data.describe())\n",
    "\n",
    "\n",
    "# 将特征字段分成 3 组\n",
    "features_mean = list(data.columns[2:12])\n",
    "features_se = list(data.columns[12:22])\n",
    "features_worst = list(data.columns[22:32])"
   ]
  },
  {
   "cell_type": "code",
   "execution_count": 4,
   "metadata": {},
   "outputs": [],
   "source": [
    "# 数据清洗\n",
    "# ID 列没有用，删除该列\n",
    "data.drop(\"id\", axis=1, inplace=True)\n",
    "# 将 B 良性替换为 0，M 恶性替换为 1\n",
    "data[\"diagnosis\"] = data[\"diagnosis\"].map({\"M\": 1, \"B\": 0})"
   ]
  },
  {
   "cell_type": "code",
   "execution_count": null,
   "metadata": {},
   "outputs": [],
   "source": [
    "# 将肿瘤诊断结果可视化\n",
    "sns.countplot(data=data, x=\"diagnosis\", label=\"Count\")\n",
    "plt.show()\n",
    "# 用热力图呈现 features_mean 字段之间的相关性\n",
    "corr = data[features_mean].corr()\n",
    "plt.figure(figsize=(14, 14))\n",
    "# annot=True 显示每个方格的数据\n",
    "sns.heatmap(corr, annot=True)\n",
    "plt.show()"
   ]
  },
  {
   "cell_type": "code",
   "execution_count": 6,
   "metadata": {},
   "outputs": [],
   "source": [
    "# 特征选择\n",
    "features_remain = [\n",
    "    \"radius_mean\",\n",
    "    \"texture_mean\",\n",
    "    \"smoothness_mean\",\n",
    "    \"compactness_mean\",\n",
    "    \"symmetry_mean\",\n",
    "    \"fractal_dimension_mean\",\n",
    "]\n",
    "\n",
    "# 抽取 30% 的数据作为测试集，其余作为训练集\n",
    "train, test = train_test_split(\n",
    "    data, test_size=0.3\n",
    ")  # in this our main data is splitted into train and test\n",
    "# 抽取特征选择的数值作为训练和测试数据\n",
    "train_X = train[features_remain]\n",
    "train_y = train[\"diagnosis\"]\n",
    "test_X = test[features_remain]\n",
    "test_y = test[\"diagnosis\"]"
   ]
  },
  {
   "cell_type": "code",
   "execution_count": 7,
   "metadata": {},
   "outputs": [
    {
     "name": "stdout",
     "output_type": "stream",
     "text": [
      "准确率： 0.9239766081871345\n"
     ]
    }
   ],
   "source": [
    "# 采用 Z-Score 规范化数据，保证每个特征维度的数据均值为 0，方差为 1\n",
    "ss = StandardScaler()\n",
    "train_X = ss.fit_transform(train_X)\n",
    "test_X = ss.transform(test_X)\n",
    "\n",
    "# 创建 SVM 分类器\n",
    "model = svm.SVC()\n",
    "# 用训练集做训练\n",
    "model.fit(train_X, train_y)\n",
    "# 用测试集做预测\n",
    "prediction = model.predict(test_X)\n",
    "print(\"准确率：\", metrics.accuracy_score(prediction, test_y))"
   ]
  }
 ],
 "metadata": {
  "kernelspec": {
   "display_name": "sklearn-env",
   "language": "python",
   "name": "python3"
  },
  "language_info": {
   "codemirror_mode": {
    "name": "ipython",
    "version": 3
   },
   "file_extension": ".py",
   "mimetype": "text/x-python",
   "name": "python",
   "nbconvert_exporter": "python",
   "pygments_lexer": "ipython3",
   "version": "3.10.13"
  },
  "orig_nbformat": 4
 },
 "nbformat": 4,
 "nbformat_minor": 2
}
